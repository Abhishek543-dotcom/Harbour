{
 "cells": [
  {
   "cell_type": "code",
   "execution_count": null,
   "metadata": {
    "vscode": {
     "languageId": "plaintext"
    }
   },
   "outputs": [],
   "source": [
    "{\n",
    "  \"cells\": [\n",
    "    {\n",
    "      \"cell_type\": \"code\",\n",
    "      \"execution_count\": null,\n",
    "      \"metadata\": {},\n",
    "      \"outputs\": [],\n",
    "      \"source\": [\n",
    "        \"from pyspark.sql import SparkSession\\n\",\n",
    "        \"\\n\",\n",
    "        \"spark = SparkSession.builder.appName(\\\"Example Notebook\\\").getOrCreate()\\n\",\n",
    "        \"\\n\",\n",
    "        \"df = spark.read.csv(\\\"s3a://your-bucket/input.csv\\\")\\n\",\n",
    "        \"df.show()\"\n",
    "      ]\n",
    "    }\n",
    "  ],\n",
    "  \"metadata\": {},\n",
    "  \"nbformat\": 4,\n",
    "  \"nbformat_minor\": 5\n",
    "}\n"
   ]
  }
 ],
 "metadata": {
  "language_info": {
   "name": "python"
  }
 },
 "nbformat": 4,
 "nbformat_minor": 2
}
